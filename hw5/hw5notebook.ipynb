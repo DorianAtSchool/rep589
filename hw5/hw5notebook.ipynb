{
 "cells": [
  {
   "cell_type": "markdown",
   "metadata": {},
   "source": [
    "CS589 ASSIGNMENT 5\\\n",
    "\\\n",
    "Name: Dorian Benhamou Goldfajn\\\n",
    "Email: dbenhamougol@umass.edu\\\n",
    "Discussed With: Aryan Nair"
   ]
  },
  {
   "cell_type": "markdown",
   "metadata": {},
   "source": [
    "Question 1"
   ]
  },
  {
   "cell_type": "code",
   "execution_count": 57,
   "metadata": {},
   "outputs": [],
   "source": [
    "import numpy as np\n",
    "from numpy.linalg import solve\n",
    "# Load data\n",
    "stuff=np.load(\"data.npz\")\n",
    "X_trn = stuff[\"X_trn\"]\n",
    "y_trn = stuff[\"y_trn\"]\n",
    "X_val = stuff[\"X_val\"]\n",
    "y_val = stuff[\"y_val\"]"
   ]
  },
  {
   "cell_type": "code",
   "execution_count": 58,
   "metadata": {},
   "outputs": [],
   "source": [
    "def KNN_reg_predict(X_trn, y_trn, x, K):\n",
    "    # Dictionary to store n: distance pairs\n",
    "    distances = {}\n",
    "    for n in range(len(X_trn)):\n",
    "        # Calculate distance between x and x[n]\n",
    "        distance = np.sqrt(np.sum((x - X_trn[n])**2))\n",
    "        distances[n] = distance\n",
    "    \n",
    "    # Sort distances in ascending order\n",
    "    sorted_distances = sorted(distances.items(), key=lambda x: x[1])\n",
    "\n",
    "    # Get the K nearest neighbors\n",
    "    y_neighbor = []\n",
    "    for n in range(K):\n",
    "        n_nearest = sorted_distances[n][0]\n",
    "        y_neighbor.append(y_trn[n_nearest])\n",
    "    \n",
    "    return sum(y_neighbor)/K\n"
   ]
  },
  {
   "cell_type": "markdown",
   "metadata": {},
   "source": [
    "Question 2"
   ]
  },
  {
   "cell_type": "code",
   "execution_count": 59,
   "metadata": {},
   "outputs": [
    {
     "name": "stdout",
     "output_type": "stream",
     "text": [
      "K MSE_Training MSE_Test\n",
      "1 0.027776792362435434 0.1161515083619415\n",
      "2 0.038766529148675025 0.09292000929517732\n",
      "3 0.04892693465992967 0.08771203523782278\n",
      "4 0.05808528114691374 0.08390921781341529\n",
      "5 0.06399373093604337 0.08632277907000549\n",
      "6 0.06975853329133039 0.08786844050173136\n",
      "7 0.0735949257807759 0.08873352917883619\n",
      "8 0.07704997958033225 0.08990820794806989\n",
      "9 0.07946178083641228 0.09146068878973732\n",
      "10 0.08385928036280507 0.09377745789343253\n"
     ]
    }
   ],
   "source": [
    "# mean squared error of training and test datasets\n",
    "K = np.arange(1, 11, 1)\n",
    "\n",
    "print(f\"K MSE_Training MSE_Test\")\n",
    "for k in K:\n",
    "    y_pred_trn = np.array([KNN_reg_predict(X_trn, y_trn, x, k) for x in X_trn])\n",
    "    y_pred_val = np.array([KNN_reg_predict(X_trn, y_trn, x, k) for x in X_val])\n",
    "    \n",
    "    e_trn = (y_trn - y_pred_trn)**2\n",
    "    e_val = (y_val - y_pred_val)**2\n",
    "    \n",
    "    mse_trn = np.mean(e_trn)\n",
    "    mse_val = np.mean(e_val)\n",
    "\n",
    "    # return ansert as 10 x 2 table printed\n",
    "    print(f\"{k} {mse_trn} {mse_val}\")\n",
    "\n"
   ]
  },
  {
   "cell_type": "code",
   "execution_count": 60,
   "metadata": {},
   "outputs": [
    {
     "name": "stdout",
     "output_type": "stream",
     "text": [
      "K MAE_Training MAE_Test\n",
      "1 0.054316445615942295 0.22025127415761606\n",
      "2 0.12957258988357678 0.20835431479469874\n",
      "3 0.15135992813678828 0.20418612831761107\n",
      "4 0.16785326949820978 0.2035779031463144\n",
      "5 0.17931103152777353 0.20959801962595456\n",
      "6 0.18709581363801037 0.21316510710538666\n",
      "7 0.19391550823228224 0.2154837032509669\n",
      "8 0.19916155079769043 0.2189329320340141\n",
      "9 0.20375689095794297 0.22159066141390082\n",
      "10 0.2090054220284322 0.22438070425174345\n"
     ]
    }
   ],
   "source": [
    "# Repeat process with absolute error\n",
    "# mean absolute error of training and test datasets\n",
    "K = np.arange(1, 11, 1)\n",
    "\n",
    "print(f\"K MAE_Training MAE_Test\")\n",
    "for k in K:\n",
    "    y_pred_trn = np.array([KNN_reg_predict(X_trn, y_trn, x, k) for x in X_trn])\n",
    "    y_pred_val = np.array([KNN_reg_predict(X_trn, y_trn, x, k) for x in X_val])\n",
    "    \n",
    "    e_trn = abs(y_trn - y_pred_trn)\n",
    "    e_val = abs(y_val - y_pred_val)\n",
    "    \n",
    "    mae_trn = np.mean(e_trn)\n",
    "    mae_val = np.mean(e_val)\n",
    "\n",
    "    # return ansert as 10 x 2 table printed\n",
    "    print(f\"{k} {mae_trn} {mae_val}\")\n"
   ]
  },
  {
   "cell_type": "markdown",
   "metadata": {},
   "source": [
    "Question 3"
   ]
  },
  {
   "cell_type": "code",
   "execution_count": 61,
   "metadata": {},
   "outputs": [],
   "source": [
    "import matplotlib.pyplot as plt"
   ]
  },
  {
   "cell_type": "code",
   "execution_count": 62,
   "metadata": {},
   "outputs": [
    {
     "name": "stdout",
     "output_type": "stream",
     "text": [
      "RSS on validation data:  0.0808825560121234\n"
     ]
    },
    {
     "data": {
      "text/plain": [
       "np.float64(0.0808825560121234)"
      ]
     },
     "execution_count": 62,
     "metadata": {},
     "output_type": "execute_result"
    }
   ],
   "source": [
    "stuff=np.load(\"data.npz\")\n",
    "X_trn = stuff[\"X_trn\"]\n",
    "y_trn = stuff[\"y_trn\"]\n",
    "X_val = stuff[\"X_val\"]\n",
    "y_val = stuff[\"y_val\"]\n",
    "\n",
    "def linear_reg_predict(x, w):\n",
    "    y = np.dot(x, w)    \n",
    "    return y\n",
    "\n",
    "def RSS(w, x, y):\n",
    "    sum = 0\n",
    "    for n in range(len(y)):\n",
    "        sum = (y[n] - linear_reg_predict(x[n], w))**2\n",
    "    return sum\n",
    "\n",
    "def get_w_on_training(X_trn, y_trn):\n",
    "    component_x_x = np.dot(X_trn.T, X_trn)\n",
    "    compnent_x_y = np.dot(X_trn.T, y_trn)\n",
    "    best_w_eq = solve(component_x_x, compnent_x_y)\n",
    "\n",
    "    #print(\"Best w: \", best_w_eq)\n",
    "    # min_RSS = RSS(best_w_eq, X_trn, y_trn)\n",
    "    # print(\"RSS on training data: \", min_RSS)\n",
    "    \n",
    "    return best_w_eq\n",
    "\n",
    "def evaluate_linear_model(w, X_val, y_val):\n",
    "    RSS_val = RSS(w, X_val, y_val)\n",
    "    print(\"RSS on validation data: \", RSS_val)\n",
    "    return RSS_val\n",
    "\n",
    "# def plot_model(w, X_val, y_val):\n",
    "#     # RSS_val = RSS(w, X_val, y_val)\n",
    "#     # print(\"RSS on validation data: \", RSS_val)\n",
    "\n",
    "#     predictions = []\n",
    "#     for x in X_val:\n",
    "#         pred_y = linear_reg_predict(x, w)\n",
    "#         predictions.append(pred_y)\n",
    "    \n",
    "#     plt.plot(predictions, y_val, 'ro')\n",
    "#     plt.show()\n",
    "    \n",
    "best_w = get_w_on_training(X_trn, y_trn)\n",
    "evaluate_linear_model(best_w, X_val, y_val)\n",
    "# plot_model(best_w, X_val, y_val)"
   ]
  },
  {
   "cell_type": "markdown",
   "metadata": {},
   "source": [
    "Question 4"
   ]
  },
  {
   "cell_type": "code",
   "execution_count": 63,
   "metadata": {},
   "outputs": [
    {
     "data": {
      "text/plain": [
       "array([-0.52547341, -0.15763466, -0.24916306])"
      ]
     },
     "execution_count": 63,
     "metadata": {},
     "output_type": "execute_result"
    }
   ],
   "source": [
    "def linear_reg_train(X_trn, y_trn, l):\n",
    "    \n",
    "    # get w from training data\n",
    "\n",
    "    component_x_x = np.dot(X_trn.T, X_trn) + l * np.identity(len(X_trn[0]))\n",
    "    compnent_x_y = np.dot(X_trn.T, y_trn)\n",
    "    best_w_eq = solve(component_x_x, compnent_x_y)\n",
    "    \n",
    "    w = best_w_eq\n",
    "    return w\n",
    "\n",
    "linear_reg_train(X_trn, y_trn, 0.1)"
   ]
  },
  {
   "cell_type": "markdown",
   "metadata": {},
   "source": [
    "Question 5"
   ]
  },
  {
   "cell_type": "code",
   "execution_count": 64,
   "metadata": {},
   "outputs": [
    {
     "name": "stdout",
     "output_type": "stream",
     "text": [
      "labmda MSE_Training MSE_Test\n",
      "0 0.4562032855064755 0.41164112677664716\n",
      "0.1 0.4562032869357558 0.4116449798157237\n",
      "1 0.4562034282461019 0.4116797604792379\n",
      "10 0.45621737375679355 0.4120376302203646\n",
      "100 0.4574496984430852 0.41647920747721434\n",
      "1000 0.511516499699903 0.48850473737475975\n"
     ]
    }
   ],
   "source": [
    "# mean squared error of training and test datasets\n",
    "lambdas = [0, 0.1, 1, 10, 100, 1000]\n",
    "print(f\"labmda MSE_Training MSE_Test\")\n",
    "for l in lambdas:\n",
    "    w_trn = linear_reg_train(X_trn, y_trn, l)\n",
    "    y_pred_trn = np.array([x @ w_trn for x in X_trn])\n",
    "    y_pred_val = np.array([x @ w_trn for x in X_val])\n",
    "    \n",
    "    e_trn = (y_trn - y_pred_trn)**2\n",
    "    e_val = (y_val - y_pred_val)**2\n",
    "    \n",
    "    mse_trn = np.mean(e_trn)\n",
    "    mse_val = np.mean(e_val)\n",
    "\n",
    "    # return ansert as 10 x 2 table printed\n",
    "    print(f\"{l} {mse_trn} {mse_val}\")\n"
   ]
  },
  {
   "cell_type": "code",
   "execution_count": 65,
   "metadata": {},
   "outputs": [
    {
     "name": "stdout",
     "output_type": "stream",
     "text": [
      "lambda MAE_Training MAE_Test\n",
      "0 0.49481847169292353 0.4784540365027477\n",
      "0.1 0.4948246979122842 0.47846213837308493\n",
      "1 0.49488068974027005 0.4785349971238131\n",
      "10 0.49546225439062336 0.4792661070411451\n",
      "100 0.5013769708573422 0.4865691042445217\n",
      "1000 0.55851008205692 0.5521185051640506\n"
     ]
    }
   ],
   "source": [
    "# Repeat process with absolute error\n",
    "# mean absolute error of training and test datasets\n",
    "lambdas = [0, 0.1, 1, 10, 100, 1000]\n",
    "print(f\"lambda MAE_Training MAE_Test\")\n",
    "for l in lambdas:\n",
    "    w_trn = linear_reg_train(X_trn, y_trn, l)\n",
    "    y_pred_trn = np.array([x @ w_trn for x in X_trn])\n",
    "    y_pred_val = np.array([x @ w_trn for x in X_val])\n",
    "    \n",
    "    e_trn = abs(y_trn - y_pred_trn)\n",
    "    e_val = abs(y_val - y_pred_val)\n",
    "    \n",
    "    mae_trn = np.mean(e_trn)\n",
    "    mae_val = np.mean(e_val)\n",
    "\n",
    "    # return ansert as 10 x 2 table printed\n",
    "    print(f\"{l} {mae_trn} {mae_val}\")\n"
   ]
  },
  {
   "cell_type": "markdown",
   "metadata": {},
   "source": [
    "Question 6"
   ]
  },
  {
   "cell_type": "markdown",
   "metadata": {},
   "source": [
    "1. Squared training error: (A). Ridge regression trades off regularization for training error. Lambda is the regularization constant, so the larger the it is the larger the squared training error.\n",
    "2. Squared test error: (E). As lambda increases, the model is more prone to underfitting and the specific dataset will determine how beneficial or detrimental that behavior may be for the test error. However, it would make sense that on average, the error will initially decrease as it eliminates overfitting before reaching a point where it will drastically increase as it becomes too simple.\n",
    "3. Absolute training error: (A). Same reasoning as (1); even though the metric changes the behavior remains.\n",
    "4. Absolute test error: (E). Same as (2); May depend on dataset."
   ]
  },
  {
   "cell_type": "markdown",
   "metadata": {},
   "source": [
    "Question 7"
   ]
  },
  {
   "cell_type": "code",
   "execution_count": 66,
   "metadata": {},
   "outputs": [],
   "source": [
    "def reg_stump_predict(x, dim, thresh, c_left, c_right):\n",
    "    return c_left if x[dim] <= thresh else c_right"
   ]
  },
  {
   "cell_type": "markdown",
   "metadata": {},
   "source": [
    "Question 8"
   ]
  },
  {
   "cell_type": "code",
   "execution_count": 67,
   "metadata": {},
   "outputs": [],
   "source": [
    "def reg_stump_train(X_trn, y_trn):\n",
    "    # do stuff here\n",
    "    D = len(X_trn[0])\n",
    "    N = len(X_trn)\n",
    "    dim = -1\n",
    "    thresh = -1\n",
    "    min_error = np.inf\n",
    "    c_left = 0\n",
    "    c_right = 0\n",
    "\n",
    "    for i in range(D):\n",
    "        Z = sorted(X_trn,key=lambda x: x[i])\n",
    "        for n in range(N-1):\n",
    "            t = (Z[n][i] + Z[n+1][i])/2\n",
    "            R1 = [n for n in range(N) if X_trn[n][i] <= t]\n",
    "            R2 = [n for n in range(N) if X_trn[n][i] > t]\n",
    "            c1 = np.mean([y_trn[n] for n in R1])\n",
    "            c2 = np.mean([y_trn[n] for n in R2])\n",
    "            error = sum([(y_trn[n] - c1)**2 for n in R1]) + sum([(y_trn[n] - c2)**2 for n in R2])\n",
    "            if error < min_error:\n",
    "                min_error = error\n",
    "                dim = i\n",
    "                c_left = c1\n",
    "                c_right = c2\n",
    "                thresh = t\n",
    "\n",
    "\n",
    "    \n",
    "    return dim, thresh, c_left, c_right"
   ]
  },
  {
   "cell_type": "markdown",
   "metadata": {},
   "source": [
    "Question 9"
   ]
  },
  {
   "cell_type": "code",
   "execution_count": 68,
   "metadata": {},
   "outputs": [
    {
     "name": "stdout",
     "output_type": "stream",
     "text": [
      "MSE_Training MSE_Test\n",
      "0.4184355535477394 0.41586499564443646\n"
     ]
    }
   ],
   "source": [
    "stuff=np.load(\"data.npz\")\n",
    "X_trn = stuff[\"X_trn\"]\n",
    "y_trn = stuff[\"y_trn\"]\n",
    "X_val = stuff[\"X_val\"]\n",
    "y_val = stuff[\"y_val\"]\n",
    "\n",
    "# mean squared error of training and test datasets\n",
    "\n",
    "print(f\"MSE_Training MSE_Test\")\n",
    "dim, thresh, c_left, c_right = reg_stump_train(X_trn, y_trn)\n",
    "y_pred_trn = np.array([reg_stump_predict(x, dim, thresh, c_left, c_right) for x in X_trn])\n",
    "y_pred_val = np.array([reg_stump_predict(x, dim, thresh, c_left, c_right) for x in X_val])\n",
    "\n",
    "e_trn = (y_trn - y_pred_trn)**2\n",
    "e_val = (y_val - y_pred_val)**2\n",
    "    \n",
    "mse_trn = np.mean(e_trn)\n",
    "mse_val = np.mean(e_val)\n",
    "\n",
    "# return ansert as 10 x 2 table printed\n",
    "print(f\"{mse_trn} {mse_val}\")"
   ]
  },
  {
   "cell_type": "code",
   "execution_count": 69,
   "metadata": {},
   "outputs": [
    {
     "name": "stdout",
     "output_type": "stream",
     "text": [
      "MAE_Training MAE_Test\n",
      "0.4981658402877596 0.49943339467813985\n"
     ]
    }
   ],
   "source": [
    "# mean abs error of training and test datasets\n",
    "\n",
    "print(f\"MAE_Training MAE_Test\")\n",
    "dim, thresh, c_left, c_right = reg_stump_train(X_trn, y_trn)\n",
    "y_pred_trn = np.array([reg_stump_predict(x, dim, thresh, c_left, c_right) for x in X_trn])\n",
    "y_pred_val = np.array([reg_stump_predict(x, dim, thresh, c_left, c_right) for x in X_val])\n",
    "\n",
    "e_trn = abs(y_trn - y_pred_trn)\n",
    "e_val = abs(y_val - y_pred_val)\n",
    "    \n",
    "mae_trn = np.mean(e_trn)\n",
    "mae_val = np.mean(e_val)\n",
    "\n",
    "# return ansert as 10 x 2 table printed\n",
    "print(f\"{mae_trn} {mae_val}\")"
   ]
  },
  {
   "cell_type": "markdown",
   "metadata": {},
   "source": [
    "Question 10"
   ]
  },
  {
   "cell_type": "code",
   "execution_count": 70,
   "metadata": {},
   "outputs": [],
   "source": [
    "from sklearn.tree import DecisionTreeRegressor\n",
    "from sklearn.neighbors import KNeighborsRegressor\n",
    "from sklearn.linear_model import Ridge, Lasso"
   ]
  },
  {
   "cell_type": "code",
   "execution_count": 71,
   "metadata": {},
   "outputs": [
    {
     "name": "stdout",
     "output_type": "stream",
     "text": [
      "K MSE_Training MSE_Test\n",
      "1 0.0006659340345992658 0.3447341153424398\n",
      "2 0.07693002409170069 0.2543184393272224\n",
      "5 0.15223580578800638 0.22579558877153472\n",
      "10 0.180010898481462 0.22683947191747988\n",
      "20 0.21389652594213113 0.24228911354200178\n",
      "50 0.2796943811113797 0.280433909874407\n"
     ]
    }
   ],
   "source": [
    "stuff = np.load(\"big_data.npz\")\n",
    "X_trn = stuff[\"X_trn\"]\n",
    "y_trn = stuff[\"y_trn\"]\n",
    "X_val = stuff[\"X_val\"]\n",
    "y_val = stuff[\"y_val\"]\n",
    "\n",
    "# mean squared error of training and test datasets\n",
    "K = [1,2,5,10,20,50]\n",
    "\n",
    "print(f\"K MSE_Training MSE_Test\")\n",
    "for k in K:\n",
    "    model = KNeighborsRegressor(n_neighbors=k)\n",
    "    model = model.fit(X_trn, y_trn)\n",
    "    y_pred_trn = model.predict(X_trn)\n",
    "    y_pred_val = model.predict(X_val)\n",
    "    \n",
    "    e_trn = (y_trn - y_pred_trn)**2\n",
    "    e_val = (y_val - y_pred_val)**2\n",
    "    \n",
    "    mse_trn = np.mean(e_trn)\n",
    "    mse_val = np.mean(e_val)\n",
    "\n",
    "    # return ansert as 10 x 2 table printed\n",
    "    print(f\"{k} {mse_trn} {mse_val}\")"
   ]
  },
  {
   "cell_type": "code",
   "execution_count": null,
   "metadata": {},
   "outputs": [
    {
     "name": "stdout",
     "output_type": "stream",
     "text": [
      "K MSE_Training MSE_Test\n"
     ]
    }
   ],
   "source": [
    "# COMPARE TO MY IMPLEMENTATION\n",
    "K = [1,2,5]\n",
    "\n",
    "print(f\"K MSE_Training MSE_Test\")\n",
    "for k in K:\n",
    "    y_pred_trn = np.array([KNN_reg_predict(X_trn, y_trn, x, k) for x in X_trn])\n",
    "    y_pred_val = np.array([KNN_reg_predict(X_trn, y_trn, x, k) for x in X_val])\n",
    "    \n",
    "    e_trn = (y_trn - y_pred_trn)**2\n",
    "    e_val = (y_val - y_pred_val)**2\n",
    "    \n",
    "    mse_trn = np.mean(e_trn)\n",
    "    mse_val = np.mean(e_val)\n",
    "\n",
    "    # return ansert as 10 x 2 table printed\n",
    "    print(f\"{k} {mse_trn} {mse_val}\")\n"
   ]
  },
  {
   "cell_type": "markdown",
   "metadata": {},
   "source": [
    "Question 11"
   ]
  },
  {
   "cell_type": "code",
   "execution_count": 73,
   "metadata": {},
   "outputs": [
    {
     "name": "stdout",
     "output_type": "stream",
     "text": [
      "depth MSE_Training MSE_Test\n",
      "1 0.7008495465894625 0.6736185829160451\n",
      "2 0.5139674553216395 0.49958303129007453\n",
      "3 0.39370132769056965 0.4169310878877666\n",
      "4 0.3160996742960044 0.35945975668046704\n",
      "5 0.23832293591401732 0.3097438509953585\n"
     ]
    }
   ],
   "source": [
    "depth = [1,2,3,4,5]\n",
    "print(f\"depth MSE_Training MSE_Test\")\n",
    "\n",
    "for d in depth:\n",
    "    clf = DecisionTreeRegressor(max_depth=d)\n",
    "    clf = clf.fit(X_trn, y_trn)\n",
    "    y_pred_trn = clf.predict(X_trn)\n",
    "    y_pred_val = clf.predict(X_val)\n",
    "    \n",
    "    e_trn = (y_trn - y_pred_trn)**2\n",
    "    e_val = (y_val - y_pred_val)**2\n",
    "    \n",
    "    mse_trn = np.mean(e_trn)\n",
    "    mse_val = np.mean(e_val)\n",
    "\n",
    "    # return ansert as 10 x 2 table printed\n",
    "    print(f\"{d} {mse_trn} {mse_val}\")"
   ]
  },
  {
   "cell_type": "markdown",
   "metadata": {},
   "source": [
    "Question 12"
   ]
  },
  {
   "cell_type": "code",
   "execution_count": 75,
   "metadata": {},
   "outputs": [
    {
     "name": "stdout",
     "output_type": "stream",
     "text": [
      "lambda MSE_Training MSE_Test\n",
      "0 0.3037344046842696 0.30361589617801227\n",
      "1 0.3037237561585177 0.3036268227584428\n",
      "10 0.3037242691300504 0.3036219713079262\n",
      "100 0.30377305205907484 0.30362089880030196\n",
      "1000 0.30701681317139456 0.30659920661335\n",
      "10000 0.37346415912789555 0.37186121060826816\n"
     ]
    }
   ],
   "source": [
    "L = [0, 1, 10, 100, 1000, 10000]\n",
    "\n",
    "print(f\"lambda MSE_Training MSE_Test\")\n",
    "\n",
    "for l in L:\n",
    "    model = Ridge(alpha=l)\n",
    "    model = model.fit(X_trn, y_trn)\n",
    "    y_pred_trn = model.predict(X_trn)\n",
    "    y_pred_val = model.predict(X_val)\n",
    "    \n",
    "    e_trn = (y_trn - y_pred_trn)**2\n",
    "    e_val = (y_val - y_pred_val)**2\n",
    "    \n",
    "    mse_trn = np.mean(e_trn)\n",
    "    mse_val = np.mean(e_val)\n",
    "\n",
    "    # return ansert as 10 x 2 table printed\n",
    "    print(f\"{l} {mse_trn} {mse_val}\")"
   ]
  },
  {
   "cell_type": "code",
   "execution_count": 76,
   "metadata": {},
   "outputs": [
    {
     "name": "stdout",
     "output_type": "stream",
     "text": [
      "lambda MSE_Training MSE_Test\n",
      "0 0.3037237509502073 0.3036274180924951\n",
      "1 0.30372375615845487 0.30362682282040326\n",
      "10 0.30372426912358624 0.3036219719334224\n",
      "100 0.3037730512463209 0.30362090511717754\n",
      "1000 0.3070166608023815 0.3065989837548621\n",
      "10000 0.3734618343164496 0.37183905206910844\n"
     ]
    }
   ],
   "source": [
    "# COMPARE WITH MY IMPLEMENTATION\n",
    "\n",
    "L = [0, 1, 10, 100, 1000, 10000]\n",
    "\n",
    "print(f\"lambda MSE_Training MSE_Test\")\n",
    "\n",
    "for l in L:\n",
    "    model = linear_reg_train(X_trn, y_trn, l)\n",
    "    y_pred_trn = linear_reg_predict(X_trn, model)\n",
    "    y_pred_val = linear_reg_predict(X_val, model)\n",
    "    \n",
    "    e_trn = (y_trn - y_pred_trn)**2\n",
    "    e_val = (y_val - y_pred_val)**2\n",
    "    \n",
    "    mse_trn = np.mean(e_trn)\n",
    "    mse_val = np.mean(e_val)\n",
    "\n",
    "    # return ansert as 10 x 2 table printed\n",
    "    print(f\"{l} {mse_trn} {mse_val}\")"
   ]
  },
  {
   "cell_type": "markdown",
   "metadata": {},
   "source": [
    "Question 12"
   ]
  },
  {
   "cell_type": "code",
   "execution_count": 83,
   "metadata": {},
   "outputs": [
    {
     "name": "stdout",
     "output_type": "stream",
     "text": [
      "lambda MSE_Training MSE_Test\n",
      "0 0.30372375095020726 0.3036274180924954\n",
      "0.001 0.3037486748637409 0.303636509020716\n",
      "0.01 0.3056908145804899 0.3055191967145848\n",
      "0.1 0.36611078514433004 0.3622419038732797\n",
      "1 1.0175957188536087 1.0023923321461479\n",
      "10 1.0175957188536087 1.0023923321461479\n"
     ]
    },
    {
     "name": "stderr",
     "output_type": "stream",
     "text": [
      "/Users/dorian/Documents/rep589/venv/lib/python3.12/site-packages/sklearn/base.py:1473: UserWarning: With alpha=0, this algorithm does not converge well. You are advised to use the LinearRegression estimator\n",
      "  return fit_method(estimator, *args, **kwargs)\n",
      "/Users/dorian/Documents/rep589/venv/lib/python3.12/site-packages/sklearn/linear_model/_coordinate_descent.py:697: UserWarning: Coordinate descent with no regularization may lead to unexpected results and is discouraged.\n",
      "  model = cd_fast.enet_coordinate_descent(\n",
      "/Users/dorian/Documents/rep589/venv/lib/python3.12/site-packages/sklearn/linear_model/_coordinate_descent.py:697: ConvergenceWarning: Objective did not converge. You might want to increase the number of iterations, check the scale of the features or consider increasing regularisation. Duality gap: 1.519e+03, tolerance: 1.018e+00 Linear regression models with null weight for the l1 regularization term are more efficiently fitted using one of the solvers implemented in sklearn.linear_model.Ridge/RidgeCV instead.\n",
      "  model = cd_fast.enet_coordinate_descent(\n"
     ]
    }
   ],
   "source": [
    "# LASSO\n",
    "L = [0, 0.001, 0.01, 0.1, 1, 10]\n",
    "N = len(X_trn)\n",
    "print(f\"lambda MSE_Training MSE_Test\")\n",
    "\n",
    "for l in L:\n",
    "    alpha = l * 1/(2*N) # CHANGE: alpha has to be mapped from lambda\n",
    "\n",
    "    model = Lasso(alpha=l)\n",
    "    model = model.fit(X_trn, y_trn)\n",
    "    y_pred_trn = model.predict(X_trn)\n",
    "    y_pred_val = model.predict(X_val)\n",
    "    \n",
    "    e_trn = (y_trn - y_pred_trn)**2\n",
    "    e_val = (y_val - y_pred_val)**2\n",
    "    \n",
    "    mse_trn = np.mean(e_trn)\n",
    "    mse_val = np.mean(e_val)\n",
    "\n",
    "    # return ansert as 10 x 2 table printed\n",
    "    print(f\"{l} {mse_trn} {mse_val}\")\n"
   ]
  }
 ],
 "metadata": {
  "kernelspec": {
   "display_name": "venv",
   "language": "python",
   "name": "python3"
  },
  "language_info": {
   "codemirror_mode": {
    "name": "ipython",
    "version": 3
   },
   "file_extension": ".py",
   "mimetype": "text/x-python",
   "name": "python",
   "nbconvert_exporter": "python",
   "pygments_lexer": "ipython3",
   "version": "3.12.5"
  }
 },
 "nbformat": 4,
 "nbformat_minor": 2
}
