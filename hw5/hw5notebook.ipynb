{
 "cells": [
  {
   "cell_type": "markdown",
   "metadata": {},
   "source": [
    "CS589 ASSIGNMENT 4\\\n",
    "\\\n",
    "Name: Dorian Benhamou Goldfajn\\\n",
    "Email: dbenhamougol@umass.edu\\\n",
    "Discussed With: Aryan Nair"
   ]
  },
  {
   "cell_type": "markdown",
   "metadata": {},
   "source": [
    "Question 1"
   ]
  },
  {
   "cell_type": "code",
   "execution_count": 22,
   "metadata": {},
   "outputs": [],
   "source": [
    "import numpy as np\n",
    "from numpy.linalg import solve\n",
    "# Load data\n",
    "stuff=np.load(\"data.npz\")\n",
    "X_trn = stuff[\"X_trn\"]\n",
    "y_trn = stuff[\"y_trn\"]\n",
    "X_val = stuff[\"X_val\"]\n",
    "y_val = stuff[\"y_val\"]"
   ]
  },
  {
   "cell_type": "code",
   "execution_count": 31,
   "metadata": {},
   "outputs": [],
   "source": [
    "def KNN_reg_predict(X_trn, y_trn, x, K):\n",
    "    # Dictionary to store n: distance pairs\n",
    "    distances = {}\n",
    "    for n in range(len(X_trn)):\n",
    "        # Calculate distance between x and x[n]\n",
    "        distance = np.sqrt(np.sum((x - X_trn[n])**2))\n",
    "        distances[n] = distance\n",
    "    \n",
    "    # Sort distances in ascending order\n",
    "    sorted_distances = sorted(distances.items(), key=lambda x: x[1])\n",
    "\n",
    "    # Get the K nearest neighbors\n",
    "    y_neighbor = []\n",
    "    for n in range(K):\n",
    "        n_nearest = sorted_distances[n][0]\n",
    "        y_neighbor.append(y_trn[n_nearest])\n",
    "    \n",
    "    return sum(y_neighbor)/K\n"
   ]
  },
  {
   "cell_type": "markdown",
   "metadata": {},
   "source": [
    "Question 2"
   ]
  },
  {
   "cell_type": "code",
   "execution_count": 34,
   "metadata": {},
   "outputs": [
    {
     "name": "stdout",
     "output_type": "stream",
     "text": [
      "K MSE_Training MSE_Test\n",
      "1 0.027776792362435434 0.1161515083619415\n",
      "2 0.038766529148675025 0.09292000929517732\n",
      "3 0.04892693465992967 0.08771203523782278\n",
      "4 0.05808528114691374 0.08390921781341529\n",
      "5 0.06399373093604337 0.08632277907000549\n",
      "6 0.06975853329133039 0.08786844050173136\n",
      "7 0.0735949257807759 0.08873352917883619\n",
      "8 0.07704997958033225 0.08990820794806989\n",
      "9 0.07946178083641228 0.09146068878973732\n",
      "10 0.08385928036280507 0.09377745789343253\n"
     ]
    }
   ],
   "source": [
    "# mean squared error of training and test datasets\n",
    "K = np.arange(1, 11, 1)\n",
    "\n",
    "print(f\"K MSE_Training MSE_Test\")\n",
    "for k in K:\n",
    "    y_pred_trn = np.array([KNN_reg_predict(X_trn, y_trn, x, k) for x in X_trn])\n",
    "    y_pred_val = np.array([KNN_reg_predict(X_trn, y_trn, x, k) for x in X_val])\n",
    "    \n",
    "    e_trn = (y_trn - y_pred_trn)**2\n",
    "    e_val = (y_val - y_pred_val)**2\n",
    "    \n",
    "    mse_trn = np.mean(e_trn)\n",
    "    mse_val = np.mean(e_val)\n",
    "\n",
    "    # return ansert as 10 x 2 table printed\n",
    "    print(f\"{k} {mse_trn} {mse_val}\")\n",
    "\n"
   ]
  },
  {
   "cell_type": "code",
   "execution_count": 35,
   "metadata": {},
   "outputs": [
    {
     "name": "stdout",
     "output_type": "stream",
     "text": [
      "K MAE_Training MAE_Test\n",
      "1 0.054316445615942295 0.22025127415761606\n",
      "2 0.12957258988357678 0.20835431479469874\n",
      "3 0.15135992813678828 0.20418612831761107\n",
      "4 0.16785326949820978 0.2035779031463144\n",
      "5 0.17931103152777353 0.20959801962595456\n",
      "6 0.18709581363801037 0.21316510710538666\n",
      "7 0.19391550823228224 0.2154837032509669\n",
      "8 0.19916155079769043 0.2189329320340141\n",
      "9 0.20375689095794297 0.22159066141390082\n",
      "10 0.2090054220284322 0.22438070425174345\n"
     ]
    }
   ],
   "source": [
    "# Repeat process with absolute error\n",
    "# mean absolute error of training and test datasets\n",
    "K = np.arange(1, 11, 1)\n",
    "\n",
    "print(f\"K MAE_Training MAE_Test\")\n",
    "for k in K:\n",
    "    y_pred_trn = np.array([KNN_reg_predict(X_trn, y_trn, x, k) for x in X_trn])\n",
    "    y_pred_val = np.array([KNN_reg_predict(X_trn, y_trn, x, k) for x in X_val])\n",
    "    \n",
    "    e_trn = abs(y_trn - y_pred_trn)\n",
    "    e_val = abs(y_val - y_pred_val)\n",
    "    \n",
    "    mae_trn = np.mean(e_trn)\n",
    "    mae_val = np.mean(e_val)\n",
    "\n",
    "    # return ansert as 10 x 2 table printed\n",
    "    print(f\"{k} {mae_trn} {mae_val}\")\n"
   ]
  },
  {
   "cell_type": "markdown",
   "metadata": {},
   "source": [
    "Question 3"
   ]
  },
  {
   "cell_type": "code",
   "execution_count": 3,
   "metadata": {},
   "outputs": [],
   "source": [
    "import matplotlib.pyplot as plt"
   ]
  },
  {
   "cell_type": "code",
   "execution_count": 32,
   "metadata": {},
   "outputs": [
    {
     "name": "stdout",
     "output_type": "stream",
     "text": [
      "RSS on validation data:  0.08088255601212323\n"
     ]
    },
    {
     "data": {
      "text/plain": [
       "0.08088255601212323"
      ]
     },
     "execution_count": 32,
     "metadata": {},
     "output_type": "execute_result"
    }
   ],
   "source": [
    "stuff=np.load(\"data.npz\")\n",
    "X_trn = stuff[\"X_trn\"]\n",
    "y_trn = stuff[\"y_trn\"]\n",
    "X_val = stuff[\"X_val\"]\n",
    "y_val = stuff[\"y_val\"]\n",
    "\n",
    "def linear_reg_predict(x, w):\n",
    "    y = np.dot(x, w)    \n",
    "    return y\n",
    "\n",
    "def RSS(w, x, y):\n",
    "    sum = 0\n",
    "    for n in range(len(y)):\n",
    "        sum = (y[n] - linear_reg_predict(x[n], w))**2\n",
    "    return sum\n",
    "\n",
    "def get_w_on_training(X_trn, y_trn):\n",
    "    component_x_x = np.dot(X_trn.T, X_trn)\n",
    "    compnent_x_y = np.dot(X_trn.T, y_trn)\n",
    "    best_w_eq = solve(component_x_x, compnent_x_y)\n",
    "\n",
    "    #print(\"Best w: \", best_w_eq)\n",
    "    # min_RSS = RSS(best_w_eq, X_trn, y_trn)\n",
    "    # print(\"RSS on training data: \", min_RSS)\n",
    "    \n",
    "    return best_w_eq\n",
    "\n",
    "def evaluate_linear_model(w, X_val, y_val):\n",
    "    RSS_val = RSS(w, X_val, y_val)\n",
    "    print(\"RSS on validation data: \", RSS_val)\n",
    "    return RSS_val\n",
    "\n",
    "# def plot_model(w, X_val, y_val):\n",
    "#     # RSS_val = RSS(w, X_val, y_val)\n",
    "#     # print(\"RSS on validation data: \", RSS_val)\n",
    "\n",
    "#     predictions = []\n",
    "#     for x in X_val:\n",
    "#         pred_y = linear_reg_predict(x, w)\n",
    "#         predictions.append(pred_y)\n",
    "    \n",
    "#     plt.plot(predictions, y_val, 'ro')\n",
    "#     plt.show()\n",
    "    \n",
    "best_w = get_w_on_training(X_trn, y_trn)\n",
    "evaluate_linear_model(best_w, X_val, y_val)\n",
    "# plot_model(best_w, X_val, y_val)"
   ]
  },
  {
   "cell_type": "markdown",
   "metadata": {},
   "source": [
    "Question 4"
   ]
  },
  {
   "cell_type": "code",
   "execution_count": 49,
   "metadata": {},
   "outputs": [
    {
     "data": {
      "text/plain": [
       "array([-0.52547098, -0.15758091, -0.24912637])"
      ]
     },
     "execution_count": 49,
     "metadata": {},
     "output_type": "execute_result"
    }
   ],
   "source": [
    "def linear_reg_train(X_trn, y_trn, l):\n",
    "    \n",
    "    # get w from training data\n",
    "\n",
    "    component_x_x = np.dot(X_trn.T, X_trn) + l\n",
    "    compnent_x_y = np.dot(y_trn, X_trn)\n",
    "    best_w_eq = solve(component_x_x, compnent_x_y)\n",
    "    \n",
    "    w = best_w_eq\n",
    "    return w\n",
    "\n",
    "linear_reg_train(X_trn, y_trn, 0.1)"
   ]
  },
  {
   "cell_type": "markdown",
   "metadata": {},
   "source": [
    "Question 5"
   ]
  },
  {
   "cell_type": "code",
   "execution_count": 54,
   "metadata": {},
   "outputs": [
    {
     "name": "stdout",
     "output_type": "stream",
     "text": [
      "labmda MSE_Training MSE_Test\n",
      "0 0.4562032855064755 0.41164112677664716\n",
      "0.1 0.45620329446817504 0.41165073215378195\n",
      "1 0.45620417935222074 0.4117377546682617\n",
      "10 0.45629039477757083 0.41266303676737714\n",
      "100 0.4630482606244589 0.4259754551722658\n",
      "1000 0.6062991040323851 0.5813119929275609\n"
     ]
    }
   ],
   "source": [
    "# mean squared error of training and test datasets\n",
    "lambdas = [0, 0.1, 1, 10, 100, 1000]\n",
    "print(f\"labmda MSE_Training MSE_Test\")\n",
    "for l in lambdas:\n",
    "    w_trn = linear_reg_train(X_trn, y_trn, l)\n",
    "    y_pred_trn = np.array([x @ w_trn for x in X_trn])\n",
    "    y_pred_val = np.array([x @ w_trn for x in X_val])\n",
    "    \n",
    "    e_trn = (y_trn - y_pred_trn)**2\n",
    "    e_val = (y_val - y_pred_val)**2\n",
    "    \n",
    "    mse_trn = np.mean(e_trn)\n",
    "    mse_val = np.mean(e_val)\n",
    "\n",
    "    # return ansert as 10 x 2 table printed\n",
    "    print(f\"{l} {mse_trn} {mse_val}\")\n"
   ]
  },
  {
   "cell_type": "code",
   "execution_count": 55,
   "metadata": {},
   "outputs": [
    {
     "name": "stdout",
     "output_type": "stream",
     "text": [
      "lambda MAE_Training MAE_Test\n",
      "0 0.49481847169292337 0.47845403650274754\n",
      "0.1 0.4948301387512741 0.47846976190798696\n",
      "1 0.4949404670066656 0.4786110865043809\n",
      "10 0.4961242323972183 0.4800268669392405\n",
      "100 0.50814685600078 0.4940762714234521\n",
      "1000 0.6050971836931269 0.6025315844350916\n"
     ]
    }
   ],
   "source": [
    "# Repeat process with absolute error\n",
    "# mean absolute error of training and test datasets\n",
    "lambdas = [0, 0.1, 1, 10, 100, 1000]\n",
    "print(f\"lambda MAE_Training MAE_Test\")\n",
    "for l in lambdas:\n",
    "    w_trn = linear_reg_train(X_trn, y_trn, l)\n",
    "    y_pred_trn = np.array([x @ w_trn for x in X_trn])\n",
    "    y_pred_val = np.array([x @ w_trn for x in X_val])\n",
    "    \n",
    "    e_trn = abs(y_trn - y_pred_trn)\n",
    "    e_val = abs(y_val - y_pred_val)\n",
    "    \n",
    "    mae_trn = np.mean(e_trn)\n",
    "    mae_val = np.mean(e_val)\n",
    "\n",
    "    # return ansert as 10 x 2 table printed\n",
    "    print(f\"{l} {mae_trn} {mae_val}\")\n"
   ]
  },
  {
   "cell_type": "markdown",
   "metadata": {},
   "source": [
    "Question 6"
   ]
  },
  {
   "cell_type": "markdown",
   "metadata": {},
   "source": [
    "1. Squared training error: (A). Ridge regression trades off regularization for training error. Lambda is the regularization constant, so the larger the it is the larger the squared training error.\n",
    "2. Squared test error: (E). As lambda increases, the model is more prone to underfitting and the specific dataset will determine how beneficial or detrimental that behavior may be for the test error. However, it would make sense that on average, the error will initially decrease as it eliminates overfitting before reaching a point where it will drastically increase as it becomes too simple.\n",
    "3. Absolute training error: (A). Same reasoning as (1); even though the metric changes the behavior remains.\n",
    "4. Absolute test error: (E). Same as (2); May depend on dataset."
   ]
  },
  {
   "cell_type": "markdown",
   "metadata": {},
   "source": [
    "Question 7"
   ]
  },
  {
   "cell_type": "code",
   "execution_count": 56,
   "metadata": {},
   "outputs": [],
   "source": [
    "def reg_stump_predict(x, dim, thresh, c_left, c_right):\n",
    "    return c_left if x[dim] <= thresh else c_right"
   ]
  },
  {
   "cell_type": "markdown",
   "metadata": {},
   "source": [
    "Question 8"
   ]
  },
  {
   "cell_type": "code",
   "execution_count": 69,
   "metadata": {},
   "outputs": [],
   "source": [
    "def reg_stump_train(X_trn, y_trn):\n",
    "    # do stuff here\n",
    "    D = len(X_trn[0])\n",
    "    N = len(X_trn)\n",
    "    dim = -1\n",
    "    thresh = -1\n",
    "    min_error = np.inf\n",
    "    c_left = 0\n",
    "    c_right = 0\n",
    "\n",
    "    for i in range(D):\n",
    "        Z = sorted(X_trn,key=lambda x: x[i])\n",
    "        for n in range(N-1):\n",
    "            t = (Z[n][i] + Z[n+1][i])/2\n",
    "            R1 = [n for n in range(N) if X_trn[n][i] <= t]\n",
    "            R2 = [n for n in range(N) if X_trn[n][i] > t]\n",
    "            c1 = np.mean([y_trn[n] for n in R1])\n",
    "            c2 = np.mean([y_trn[n] for n in R2])\n",
    "            error = sum([(y_trn[n] - c1)**2 for n in R1]) + sum([(y_trn[n] - c2)**2 for n in R2])\n",
    "            if error < min_error:\n",
    "                min_error = error\n",
    "                dim = i\n",
    "                c_left = c1\n",
    "                c_right = c2\n",
    "                thresh = t\n",
    "\n",
    "\n",
    "    \n",
    "    return dim, thresh, c_left, c_right"
   ]
  },
  {
   "cell_type": "markdown",
   "metadata": {},
   "source": [
    "Question 9"
   ]
  },
  {
   "cell_type": "code",
   "execution_count": 70,
   "metadata": {},
   "outputs": [
    {
     "name": "stdout",
     "output_type": "stream",
     "text": [
      "MSE_Training MSE_Test\n",
      "0.4184355535477394 0.41586499564443646\n"
     ]
    }
   ],
   "source": [
    "stuff=np.load(\"data.npz\")\n",
    "X_trn = stuff[\"X_trn\"]\n",
    "y_trn = stuff[\"y_trn\"]\n",
    "X_val = stuff[\"X_val\"]\n",
    "y_val = stuff[\"y_val\"]\n",
    "\n",
    "# mean squared error of training and test datasets\n",
    "\n",
    "print(f\"MSE_Training MSE_Test\")\n",
    "dim, thresh, c_left, c_right = reg_stump_train(X_trn, y_trn)\n",
    "y_pred_trn = np.array([reg_stump_predict(x, dim, thresh, c_left, c_right) for x in X_trn])\n",
    "y_pred_val = np.array([reg_stump_predict(x, dim, thresh, c_left, c_right) for x in X_val])\n",
    "\n",
    "e_trn = (y_trn - y_pred_trn)**2\n",
    "e_val = (y_val - y_pred_val)**2\n",
    "    \n",
    "mse_trn = np.mean(e_trn)\n",
    "mse_val = np.mean(e_val)\n",
    "\n",
    "# return ansert as 10 x 2 table printed\n",
    "print(f\"{mse_trn} {mse_val}\")"
   ]
  },
  {
   "cell_type": "code",
   "execution_count": 71,
   "metadata": {},
   "outputs": [
    {
     "name": "stdout",
     "output_type": "stream",
     "text": [
      "MAE_Training MAE_Test\n",
      "0.4981658402877596 0.49943339467813985\n"
     ]
    }
   ],
   "source": [
    "# mean abs error of training and test datasets\n",
    "\n",
    "print(f\"MAE_Training MAE_Test\")\n",
    "dim, thresh, c_left, c_right = reg_stump_train(X_trn, y_trn)\n",
    "y_pred_trn = np.array([reg_stump_predict(x, dim, thresh, c_left, c_right) for x in X_trn])\n",
    "y_pred_val = np.array([reg_stump_predict(x, dim, thresh, c_left, c_right) for x in X_val])\n",
    "\n",
    "e_trn = abs(y_trn - y_pred_trn)\n",
    "e_val = abs(y_val - y_pred_val)\n",
    "    \n",
    "mae_trn = np.mean(e_trn)\n",
    "mae_val = np.mean(e_val)\n",
    "\n",
    "# return ansert as 10 x 2 table printed\n",
    "print(f\"{mae_trn} {mae_val}\")"
   ]
  }
 ],
 "metadata": {
  "kernelspec": {
   "display_name": "Python 3",
   "language": "python",
   "name": "python3"
  },
  "language_info": {
   "codemirror_mode": {
    "name": "ipython",
    "version": 3
   },
   "file_extension": ".py",
   "mimetype": "text/x-python",
   "name": "python",
   "nbconvert_exporter": "python",
   "pygments_lexer": "ipython3",
   "version": "3.11.5"
  }
 },
 "nbformat": 4,
 "nbformat_minor": 2
}
