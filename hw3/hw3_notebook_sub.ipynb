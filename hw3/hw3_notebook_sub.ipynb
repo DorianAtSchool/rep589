{
 "cells": [
  {
   "cell_type": "markdown",
   "metadata": {},
   "source": [
    "Question 1"
   ]
  },
  {
   "cell_type": "code",
   "execution_count": 2,
   "metadata": {},
   "outputs": [
    {
     "name": "stderr",
     "output_type": "stream",
     "text": [
      "/Users/dorian/Documents/rep589/venv/lib/python3.12/site-packages/tqdm/auto.py:21: TqdmWarning: IProgress not found. Please update jupyter and ipywidgets. See https://ipywidgets.readthedocs.io/en/stable/user_install.html\n",
      "  from .autonotebook import tqdm as notebook_tqdm\n"
     ]
    }
   ],
   "source": [
    "import pangolin as pg"
   ]
  },
  {
   "cell_type": "code",
   "execution_count": 26,
   "metadata": {},
   "outputs": [
    {
     "data": {
      "text/plain": [
       "OperatorRV(Sub(), parents=[OperatorRV(Constant(0.)),OperatorRV(Mul(), parents=[OperatorRV(Constant(0.5)),OperatorRV(Log(), parents=[OperatorRV(Constant(56.52))])])])"
      ]
     },
     "execution_count": 26,
     "metadata": {},
     "output_type": "execute_result"
    }
   ],
   "source": [
    "def normal_log_pdf(x, loc, scale):\n",
    "    # cant use any other libraries than pangolin\n",
    "    return -(x-loc)**2/(2*scale**2) - (1/2)*pg.log(2*3.14*scale**2)\n",
    "def normal_pdf(x, loc, scale):\n",
    "    return \n",
    "def log_prior(z):\n",
    "    return normal_log_pdf(z, 1, 5)\n",
    "\n",
    "def log_likelihood(z):\n",
    "    return normal_log_pdf(4, z, 3)\n",
    "\n",
    "def log_posterior_unnormalized(z):\n",
    "    return log_prior(z) + log_likelihood(z)\n",
    "log_likelihood(4)"
   ]
  },
  {
   "cell_type": "code",
   "execution_count": 4,
   "metadata": {},
   "outputs": [
    {
     "data": {
      "text/plain": [
       "(OperatorRV(Autoregressive(composite(1,(Constant(0.125), Normal()),((), (0, 1))),365,(),0), parents=[OperatorRV(Constant(50.))]),\n",
       " OperatorRV(VMap(Normal(),(0, None),365), parents=[OperatorRV(Autoregressive(composite(1,(Constant(0.125), Normal()),((), (0, 1))),365,(),0), parents=[OperatorRV(Constant(50.))]),OperatorRV(Constant(1))]))"
      ]
     },
     "execution_count": 4,
     "metadata": {},
     "output_type": "execute_result"
    }
   ],
   "source": [
    "# # z = pg.normal(50, 0.125)\n",
    "# # z_samples = []\n",
    "# niter =  365\n",
    "\n",
    "# # x = pg.normal(z, 1)\n",
    "# # x_samples = []\n",
    "\n",
    "# # for i in range(niter):\n",
    "# #     z_new = pg.normal(z, 0.125)\n",
    "# #     x_new = pg.normal(z_new, 1)\n",
    "\n",
    "# #     z = z_new\n",
    "# #     x = x_new\n",
    "# #     z_samples.append(z)\n",
    "# #     x_samples.append(x)\n",
    "\n",
    "# def auto_fun(last_z):\n",
    "#     z_new = pg.normal(last_z, 0.125)\n",
    "#     # x_new = pg.normal(z_new, 1)\n",
    "#     # z_samples.append(z_new)\n",
    "#     # x_samples.append(x_new)\n",
    "#     return z_new\n",
    "# fun_z = pg.autoregressive(lambda z: auto_fun(z), niter)\n",
    "# z = fun_z(50.0)\n",
    "# fun_x = pg.autoregressive(lambda s,z:  pg.normal(z, s), niter)\n",
    "# x = fun_x(1, z)\n",
    "\n",
    "# z = [pg.normal(50, 0.125)]\n",
    "# x = [pg.normal(z[0], 1)]\n",
    "# for i in range(1, niter):\n",
    "#     z.append(pg.normal(z[-1], 0.125))\n",
    "#     x.append(pg.normal(z[-1], 1))\n",
    "\n",
    "# z = pg.slot()\n",
    "# x = pg.slot()\n",
    "# with pg.Loop(niter) as i:\n",
    "#     if i == 0:\n",
    "#         z[i] = pg.normal(50, 0.125)\n",
    "#         x[i] = pg.normal(z, 1)\n",
    "#     else:\n",
    "#         z[i] = pg.normal(z[i-1], 0.125) \n",
    "#         x[i] = pg.normal(z[i], 1)\n",
    "\n",
    "    # z = z_new\n",
    "    # x = x_new\n",
    "    # z_samples.append(z)\n",
    "    # x_samples.append(x)\n",
    "\n",
    "# # z_samples = pg.sample(, , niter=365)\n",
    "# x_samples, z_samples\n",
    "\n",
    "# z_samples, x_samples\n",
    "\n",
    "niter =  365\n",
    "fun_z = pg.autoregressive(lambda z: pg.normal(z, 0.125), niter)\n",
    "z = fun_z(50.0)\n",
    "\n",
    "# x = [pg.normal(true_p, 1) for true_p in z]\n",
    "x = pg.slot()\n",
    "with pg.Loop(niter) as i:\n",
    "    x[i] = pg.normal(z[i], 1)\n",
    "    \n",
    "z,x"
   ]
  },
  {
   "cell_type": "markdown",
   "metadata": {},
   "source": [
    "Question 2"
   ]
  },
  {
   "cell_type": "code",
   "execution_count": 5,
   "metadata": {},
   "outputs": [
    {
     "name": "stdout",
     "output_type": "stream",
     "text": [
      "[  1   5   6   9  10  12  15  21  26  36  39  40  42  43  44  50  52  54\n",
      "  58  64  65  68  70  72  73  88  89  90  95 100 102 104 107 109 111 115\n",
      " 119 125 134 135 138 141 153 159 160 162 166 169 171 172 174 178 187 192\n",
      " 195 197 206 207 218 219 221 222 231 232 235 238 240 243 248 249 250 256\n",
      " 257 259 264 265 277 282 286 287 289 296 299 300 301 302 303 313 314 317\n",
      " 322 324 328 333 338 341 342 344 348 350] <class 'numpy.ndarray'> (100,)\n",
      "sampling...\n"
     ]
    }
   ],
   "source": [
    "# numpy allowed only for reading in data!\n",
    "import numpy as np\n",
    "data = np.load('polls1.npz')\n",
    "observed_times = data['t']\n",
    "print(observed_times, type(observed_times), observed_times.shape)\n",
    "x_obs = data['x_t']\n",
    "\n",
    "# convert nd array to int array\n",
    "x = pg.makerv(x)\n",
    "observed_times = pg.makerv(observed_times)\n",
    "x_obs = pg.makerv(x_obs)\n",
    "x_observed_times = x[observed_times]\n",
    "print(\"sampling...\")\n",
    "z_samples = pg.sample(z, x_observed_times, x_obs)"
   ]
  }
 ],
 "metadata": {
  "kernelspec": {
   "display_name": "Python 3",
   "language": "python",
   "name": "python3"
  },
  "language_info": {
   "codemirror_mode": {
    "name": "ipython",
    "version": 3
   },
   "file_extension": ".py",
   "mimetype": "text/x-python",
   "name": "python",
   "nbconvert_exporter": "python",
   "pygments_lexer": "ipython3",
   "version": "3.12.5"
  }
 },
 "nbformat": 4,
 "nbformat_minor": 2
}
