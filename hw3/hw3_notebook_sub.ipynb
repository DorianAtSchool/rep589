{
 "cells": [
  {
   "cell_type": "markdown",
   "metadata": {},
   "source": [
    "Question 1"
   ]
  },
  {
   "cell_type": "code",
   "execution_count": 1,
   "metadata": {},
   "outputs": [
    {
     "name": "stderr",
     "output_type": "stream",
     "text": [
      "/Users/dorian/Documents/rep589/venv/lib/python3.12/site-packages/tqdm/auto.py:21: TqdmWarning: IProgress not found. Please update jupyter and ipywidgets. See https://ipywidgets.readthedocs.io/en/stable/user_install.html\n",
      "  from .autonotebook import tqdm as notebook_tqdm\n"
     ]
    }
   ],
   "source": [
    "import pangolin as pg"
   ]
  },
  {
   "cell_type": "code",
   "execution_count": 3,
   "metadata": {},
   "outputs": [
    {
     "data": {
      "text/plain": [
       "(OperatorRV(Autoregressive(composite(1,(Constant(0.125), Normal()),((), (0, 1))),365,(),0), parents=[OperatorRV(Constant(50.))]),\n",
       " OperatorRV(VMap(Normal(),(0, None),365), parents=[OperatorRV(VMap(Index(slices=(None,)),(None, 0),365), parents=[OperatorRV(Autoregressive(composite(1,(Constant(0.125), Normal()),((), (0, 1))),365,(),0), parents=[OperatorRV(Constant(50.))]),OperatorRV(VMap(Sub(),(0, None),365), parents=[OperatorRV(Constant([  0   1 ... 363 364])),OperatorRV(Constant(1))])]),OperatorRV(Constant(1))]))"
      ]
     },
     "execution_count": 3,
     "metadata": {},
     "output_type": "execute_result"
    }
   ],
   "source": [
    "\n",
    "niter = 365\n",
    "fun_z = pg.autoregressive(lambda z: pg.normal(z, 0.125), niter)\n",
    "z = fun_z(50.0)\n",
    "\n",
    "x = pg.slot()\n",
    "with pg.Loop(niter) as i:\n",
    "    x[i] = pg.normal(z[i-1], 1)\n",
    "    \n",
    "z,x"
   ]
  },
  {
   "cell_type": "markdown",
   "metadata": {},
   "source": [
    "Question 2"
   ]
  },
  {
   "cell_type": "code",
   "execution_count": 4,
   "metadata": {},
   "outputs": [],
   "source": [
    "import numpy as np"
   ]
  },
  {
   "cell_type": "code",
   "execution_count": 28,
   "metadata": {},
   "outputs": [
    {
     "name": "stdout",
     "output_type": "stream",
     "text": [
      "sampling...\n"
     ]
    },
    {
     "ename": "ValueError",
     "evalue": "Expected list, got array([51.087715, 45.57454 , 48.79449 , 52.003654, 46.90912 , 47.96853 ,\n       50.60391 , 49.982494, 50.84523 , 54.588715, 54.48249 , 52.237957,\n       49.984375, 47.864765, 52.300922, 54.271755, 51.497364, 52.92385 ,\n       48.327793, 48.595745, 48.422283, 49.0016  , 50.60097 , 53.72255 ,\n       51.052914, 53.304436, 49.867958, 48.73915 , 51.44882 , 49.983006,\n       49.38131 , 51.226646, 52.995335, 53.504177, 49.571724, 51.698982,\n       54.22981 , 51.814835, 54.293552, 56.102367, 53.521046, 58.117588,\n       56.346943, 53.381966, 51.22935 , 52.14616 , 51.488667, 51.024734,\n       52.175037, 49.628456, 53.39546 , 53.513783, 53.77402 , 51.629948,\n       54.04869 , 53.4787  , 50.933685, 52.621983, 51.444214, 51.842144,\n       51.032967, 52.514492, 54.20736 , 51.20459 , 52.12088 , 51.54457 ,\n       53.809383, 57.06707 , 52.48327 , 52.280613, 56.459126, 52.691746,\n       55.072903, 55.34005 , 55.550148, 53.131767, 52.934284, 52.452484,\n       49.39056 , 53.57736 , 51.60396 , 51.482407, 50.311108, 53.382282,\n       51.49673 , 50.474487, 50.73492 , 51.28649 , 51.21273 , 54.91186 ,\n       50.095474, 48.448563, 49.60441 , 46.90479 , 48.491356, 50.0525  ,\n       47.846474, 49.47439 , 46.139385, 51.237755], dtype=float32).",
     "output_type": "error",
     "traceback": [
      "\u001b[0;31m---------------------------------------------------------------------------\u001b[0m",
      "\u001b[0;31mValueError\u001b[0m                                Traceback (most recent call last)",
      "Cell \u001b[0;32mIn[28], line 21\u001b[0m\n\u001b[1;32m     19\u001b[0m x_observed_times \u001b[38;5;241m=\u001b[39m [x[i\u001b[38;5;241m+\u001b[39m\u001b[38;5;241m1\u001b[39m] \u001b[38;5;28;01mfor\u001b[39;00m i \u001b[38;5;129;01min\u001b[39;00m observed_times]\n\u001b[1;32m     20\u001b[0m \u001b[38;5;28mprint\u001b[39m(\u001b[38;5;124m\"\u001b[39m\u001b[38;5;124msampling...\u001b[39m\u001b[38;5;124m\"\u001b[39m)\n\u001b[0;32m---> 21\u001b[0m z_samples \u001b[38;5;241m=\u001b[39m \u001b[43mpg\u001b[49m\u001b[38;5;241;43m.\u001b[39;49m\u001b[43msample\u001b[49m\u001b[43m(\u001b[49m\u001b[43m(\u001b[49m\u001b[43mz\u001b[49m\u001b[43m)\u001b[49m\u001b[43m,\u001b[49m\u001b[43m \u001b[49m\u001b[43m(\u001b[49m\u001b[43mx_observed_times\u001b[49m\u001b[43m)\u001b[49m\u001b[43m,\u001b[49m\u001b[43m \u001b[49m\u001b[43m(\u001b[49m\u001b[43mx_obs\u001b[49m\u001b[43m)\u001b[49m\u001b[43m)\u001b[49m\n\u001b[1;32m     22\u001b[0m z_samples\u001b[38;5;241m.\u001b[39mshape\n",
      "File \u001b[0;32m~/Documents/rep589/venv/lib/python3.12/site-packages/pangolin/inference/inference_util.py:60\u001b[0m, in \u001b[0;36mCalculate.sample\u001b[0;34m(self, vars, given_vars, given_vals, reduce_fn, **options)\u001b[0m\n\u001b[1;32m     51\u001b[0m     \u001b[38;5;28;01mif\u001b[39;00m key \u001b[38;5;129;01min\u001b[39;00m \u001b[38;5;28mself\u001b[39m\u001b[38;5;241m.\u001b[39mfrozen_options:\n\u001b[1;32m     52\u001b[0m         \u001b[38;5;28;01mraise\u001b[39;00m \u001b[38;5;167;01mValueError\u001b[39;00m(\u001b[38;5;124mf\u001b[39m\u001b[38;5;124m\"\u001b[39m\u001b[38;5;124mkey \u001b[39m\u001b[38;5;132;01m{\u001b[39;00mkey\u001b[38;5;132;01m}\u001b[39;00m\u001b[38;5;124m in both options and frozen_options\u001b[39m\u001b[38;5;124m\"\u001b[39m)\n\u001b[1;32m     54\u001b[0m (\n\u001b[1;32m     55\u001b[0m     flat_vars,\n\u001b[1;32m     56\u001b[0m     flat_given_vars,\n\u001b[1;32m     57\u001b[0m     flat_given_vals,\n\u001b[1;32m     58\u001b[0m     unflatten,\n\u001b[1;32m     59\u001b[0m     unflatten_given,\n\u001b[0;32m---> 60\u001b[0m ) \u001b[38;5;241m=\u001b[39m \u001b[43mutil\u001b[49m\u001b[38;5;241;43m.\u001b[39;49m\u001b[43mflatten_args\u001b[49m\u001b[43m(\u001b[49m\u001b[38;5;28;43mvars\u001b[39;49m\u001b[43m,\u001b[49m\u001b[43m \u001b[49m\u001b[43mgiven_vars\u001b[49m\u001b[43m,\u001b[49m\u001b[43m \u001b[49m\u001b[43mgiven_vals\u001b[49m\u001b[43m)\u001b[49m\n\u001b[1;32m     62\u001b[0m flat_samps \u001b[38;5;241m=\u001b[39m \u001b[38;5;28mself\u001b[39m\u001b[38;5;241m.\u001b[39msample_flat(\n\u001b[1;32m     63\u001b[0m     flat_vars, flat_given_vars, flat_given_vals, \u001b[38;5;241m*\u001b[39m\u001b[38;5;241m*\u001b[39moptions, \u001b[38;5;241m*\u001b[39m\u001b[38;5;241m*\u001b[39m\u001b[38;5;28mself\u001b[39m\u001b[38;5;241m.\u001b[39mfrozen_options\n\u001b[1;32m     64\u001b[0m )\n\u001b[1;32m     66\u001b[0m \u001b[38;5;28;01mif\u001b[39;00m reduce_fn \u001b[38;5;129;01mis\u001b[39;00m \u001b[38;5;129;01mnot\u001b[39;00m \u001b[38;5;28;01mNone\u001b[39;00m:\n",
      "File \u001b[0;32m~/Documents/rep589/venv/lib/python3.12/site-packages/pangolin/util.py:296\u001b[0m, in \u001b[0;36mflatten_args\u001b[0;34m(vars, given_vars, given_vals)\u001b[0m\n\u001b[1;32m    295\u001b[0m \u001b[38;5;28;01mdef\u001b[39;00m \u001b[38;5;21mflatten_args\u001b[39m(\u001b[38;5;28mvars\u001b[39m, given_vars\u001b[38;5;241m=\u001b[39m\u001b[38;5;28;01mNone\u001b[39;00m, given_vals\u001b[38;5;241m=\u001b[39m\u001b[38;5;28;01mNone\u001b[39;00m):\n\u001b[0;32m--> 296\u001b[0m     given_vals \u001b[38;5;241m=\u001b[39m \u001b[43massimilate_vals\u001b[49m\u001b[43m(\u001b[49m\u001b[43mgiven_vars\u001b[49m\u001b[43m,\u001b[49m\u001b[43m \u001b[49m\u001b[43mgiven_vals\u001b[49m\u001b[43m)\u001b[49m\n\u001b[1;32m    298\u001b[0m     flat_vars, vars_treedef \u001b[38;5;241m=\u001b[39m jax\u001b[38;5;241m.\u001b[39mtree_util\u001b[38;5;241m.\u001b[39mtree_flatten(\u001b[38;5;28mvars\u001b[39m)\n\u001b[1;32m    299\u001b[0m     flat_given_vars, given_vars_treedef \u001b[38;5;241m=\u001b[39m jax\u001b[38;5;241m.\u001b[39mtree_util\u001b[38;5;241m.\u001b[39mtree_flatten(given_vars)\n",
      "File \u001b[0;32m~/Documents/rep589/venv/lib/python3.12/site-packages/pangolin/util.py:277\u001b[0m, in \u001b[0;36massimilate_vals\u001b[0;34m(vars, vals)\u001b[0m\n\u001b[1;32m    269\u001b[0m \u001b[38;5;28;01mdef\u001b[39;00m \u001b[38;5;21massimilate_vals\u001b[39m(\u001b[38;5;28mvars\u001b[39m, vals):\n\u001b[1;32m    270\u001b[0m \u001b[38;5;250m    \u001b[39m\u001b[38;5;124;03m\"\"\"\u001b[39;00m\n\u001b[1;32m    271\u001b[0m \u001b[38;5;124;03m    convert `vals` to a pytree of arrays with the same shape as `vars`\u001b[39;00m\n\u001b[1;32m    272\u001b[0m \u001b[38;5;124;03m    The purpose of this is when users might provide lists / tuples\u001b[39;00m\n\u001b[0;32m   (...)\u001b[0m\n\u001b[1;32m    275\u001b[0m \u001b[38;5;124;03m    from a big array with one more dimension.)\u001b[39;00m\n\u001b[1;32m    276\u001b[0m \u001b[38;5;124;03m    \"\"\"\u001b[39;00m\n\u001b[0;32m--> 277\u001b[0m     new_vals \u001b[38;5;241m=\u001b[39m \u001b[43mjax\u001b[49m\u001b[38;5;241;43m.\u001b[39;49m\u001b[43mtree_map\u001b[49m\u001b[43m(\u001b[49m\u001b[38;5;28;43;01mlambda\u001b[39;49;00m\u001b[43m \u001b[49m\u001b[43mvar\u001b[49m\u001b[43m,\u001b[49m\u001b[43m \u001b[49m\u001b[43mval\u001b[49m\u001b[43m:\u001b[49m\u001b[43m \u001b[49m\u001b[43mjnp\u001b[49m\u001b[38;5;241;43m.\u001b[39;49m\u001b[43marray\u001b[49m\u001b[43m(\u001b[49m\u001b[43mval\u001b[49m\u001b[43m)\u001b[49m\u001b[43m,\u001b[49m\u001b[43m \u001b[49m\u001b[38;5;28;43mvars\u001b[39;49m\u001b[43m,\u001b[49m\u001b[43m \u001b[49m\u001b[43mvals\u001b[49m\u001b[43m)\u001b[49m\n\u001b[1;32m    278\u001b[0m     flat_vars, vars_treedef \u001b[38;5;241m=\u001b[39m jax\u001b[38;5;241m.\u001b[39mtree_util\u001b[38;5;241m.\u001b[39mtree_flatten(\u001b[38;5;28mvars\u001b[39m)\n\u001b[1;32m    279\u001b[0m     flat_vals, vals_treedef \u001b[38;5;241m=\u001b[39m jax\u001b[38;5;241m.\u001b[39mtree_util\u001b[38;5;241m.\u001b[39mtree_flatten(new_vals)\n",
      "File \u001b[0;32m~/Documents/rep589/venv/lib/python3.12/site-packages/jax/_src/tree_util.py:342\u001b[0m, in \u001b[0;36mtree_map\u001b[0;34m(f, tree, is_leaf, *rest)\u001b[0m\n\u001b[1;32m    340\u001b[0m \u001b[38;5;250m\u001b[39m\u001b[38;5;124;03m\"\"\"Alias of :func:`jax.tree.map`.\"\"\"\u001b[39;00m\n\u001b[1;32m    341\u001b[0m leaves, treedef \u001b[38;5;241m=\u001b[39m tree_flatten(tree, is_leaf)\n\u001b[0;32m--> 342\u001b[0m all_leaves \u001b[38;5;241m=\u001b[39m [leaves] \u001b[38;5;241m+\u001b[39m [\u001b[43mtreedef\u001b[49m\u001b[38;5;241;43m.\u001b[39;49m\u001b[43mflatten_up_to\u001b[49m\u001b[43m(\u001b[49m\u001b[43mr\u001b[49m\u001b[43m)\u001b[49m \u001b[38;5;28;01mfor\u001b[39;00m r \u001b[38;5;129;01min\u001b[39;00m rest]\n\u001b[1;32m    343\u001b[0m \u001b[38;5;28;01mreturn\u001b[39;00m treedef\u001b[38;5;241m.\u001b[39munflatten(f(\u001b[38;5;241m*\u001b[39mxs) \u001b[38;5;28;01mfor\u001b[39;00m xs \u001b[38;5;129;01min\u001b[39;00m \u001b[38;5;28mzip\u001b[39m(\u001b[38;5;241m*\u001b[39mall_leaves))\n",
      "\u001b[0;31mValueError\u001b[0m: Expected list, got array([51.087715, 45.57454 , 48.79449 , 52.003654, 46.90912 , 47.96853 ,\n       50.60391 , 49.982494, 50.84523 , 54.588715, 54.48249 , 52.237957,\n       49.984375, 47.864765, 52.300922, 54.271755, 51.497364, 52.92385 ,\n       48.327793, 48.595745, 48.422283, 49.0016  , 50.60097 , 53.72255 ,\n       51.052914, 53.304436, 49.867958, 48.73915 , 51.44882 , 49.983006,\n       49.38131 , 51.226646, 52.995335, 53.504177, 49.571724, 51.698982,\n       54.22981 , 51.814835, 54.293552, 56.102367, 53.521046, 58.117588,\n       56.346943, 53.381966, 51.22935 , 52.14616 , 51.488667, 51.024734,\n       52.175037, 49.628456, 53.39546 , 53.513783, 53.77402 , 51.629948,\n       54.04869 , 53.4787  , 50.933685, 52.621983, 51.444214, 51.842144,\n       51.032967, 52.514492, 54.20736 , 51.20459 , 52.12088 , 51.54457 ,\n       53.809383, 57.06707 , 52.48327 , 52.280613, 56.459126, 52.691746,\n       55.072903, 55.34005 , 55.550148, 53.131767, 52.934284, 52.452484,\n       49.39056 , 53.57736 , 51.60396 , 51.482407, 50.311108, 53.382282,\n       51.49673 , 50.474487, 50.73492 , 51.28649 , 51.21273 , 54.91186 ,\n       50.095474, 48.448563, 49.60441 , 46.90479 , 48.491356, 50.0525  ,\n       47.846474, 49.47439 , 46.139385, 51.237755], dtype=float32)."
     ]
    }
   ],
   "source": [
    "# numpy allowed only for reading in data!\n",
    "\n",
    "data = np.load('polls1.npz')\n",
    "observed_times = data['t']\n",
    "x_obs = data['x_t']\n",
    "\n",
    "# convert nd array to int array\n",
    "# x = pg.makerv(x)\n",
    "# x_obs = pg.makerv(x_obs)\n",
    "\n",
    "niter = 365\n",
    "fun_z = pg.autoregressive(lambda z: pg.normal(z, 0.125), niter)\n",
    "z = fun_z(50.0)\n",
    "\n",
    "x = pg.slot()\n",
    "with pg.Loop(niter) as i:\n",
    "    x[i] = pg.normal(z[i-1], 1)\n",
    "\n",
    "x_observed_times = [x[i+1] for i in observed_times]\n",
    "print(\"sampling...\")\n",
    "z_samples = pg.sample((z), (x_observed_times), (x_obs))\n",
    "z_samples.shape"
   ]
  }
 ],
 "metadata": {
  "kernelspec": {
   "display_name": "Python 3",
   "language": "python",
   "name": "python3"
  },
  "language_info": {
   "codemirror_mode": {
    "name": "ipython",
    "version": 3
   },
   "file_extension": ".py",
   "mimetype": "text/x-python",
   "name": "python",
   "nbconvert_exporter": "python",
   "pygments_lexer": "ipython3",
   "version": "3.12.5"
  }
 },
 "nbformat": 4,
 "nbformat_minor": 2
}
