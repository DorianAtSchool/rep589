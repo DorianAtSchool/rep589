{
 "cells": [
  {
   "cell_type": "markdown",
   "metadata": {},
   "source": [
    "Question 1"
   ]
  },
  {
   "cell_type": "code",
   "execution_count": 1,
   "metadata": {},
   "outputs": [],
   "source": [
    "import numpy as np"
   ]
  },
  {
   "cell_type": "code",
   "execution_count": 2,
   "metadata": {},
   "outputs": [],
   "source": [
    "# helper activation function\n",
    "def activation(x):\n",
    "    return np.tanh(x)\n",
    "\n",
    "# helper loss function\n",
    "def logistic_loss(y, f):\n",
    "    return -f[y] + np.log(np.sum(np.exp(f)))\n",
    "\n",
    "def prediction_loss(x,y,W,V,b,c):\n",
    "    # do stuff here\n",
    "\n",
    "    # activation function on the dot product of (x and W) + b\n",
    "    res = activation(np.dot(W,x) + b)\n",
    "\n",
    "    # dot product of res and V and add c\n",
    "    f = np.dot(V, res) + c\n",
    "\n",
    "    # calculate the loss\n",
    "    L = logistic_loss(y, f)\n",
    "    return L.squeeze()"
   ]
  },
  {
   "cell_type": "markdown",
   "metadata": {},
   "source": [
    "Question 2"
   ]
  },
  {
   "cell_type": "code",
   "execution_count": 3,
   "metadata": {},
   "outputs": [],
   "source": [
    "def prediction_grad(x,y,W,V,b,c):\n",
    "    # do stuff here\n",
    "    f = np.dot(V, np.tanh(np.dot(W,x) + b)) + c\n",
    "\n",
    "    unit_vector = np.zeros(f.shape) # create a zero vector of the same shape as f\n",
    "    unit_vector[y] = 1 # set the yth element to 1 to set the unit vector in the y dim\n",
    "\n",
    "    dLdf = -unit_vector + np.exp(f) / np.sum(np.exp(f)) \n",
    "    \n",
    "    dLdc = dLdf\n",
    "\n",
    "    # gradient of loss function relative to V\n",
    "    a = np.tanh(np.dot(W,x) + b)\n",
    "    dLdV = np.outer(dLdf, a.T)\n",
    "\n",
    "    # gradient of loss function relative to b\n",
    "    sigma_prime = 1 - a**2\n",
    "    dLdb = sigma_prime * np.dot(V.T, dLdf)\n",
    "\n",
    "    # gradient of loss function relative to W\n",
    "    dLdW = np.outer(sigma_prime * np.dot(V.T, dLdf), x.T)\n",
    "\n",
    "\n",
    "    return dLdW, dLdV, dLdb, dLdc"
   ]
  },
  {
   "cell_type": "markdown",
   "metadata": {},
   "source": [
    "Question 3"
   ]
  },
  {
   "cell_type": "code",
   "execution_count": 4,
   "metadata": {},
   "outputs": [
    {
     "name": "stdout",
     "output_type": "stream",
     "text": [
      "dLdW: [[-0.18070664 -0.36141328]\n",
      " [-0.18070664 -0.36141328]\n",
      " [ 0.          0.        ]]\n",
      "dLdV: [[-0.45257413  0.45257413  0.48201379]\n",
      " [ 0.45257413 -0.45257413 -0.48201379]]\n",
      "dLdb: [-0.18070664 -0.18070664  0.        ]\n",
      "dLdc: [ 0.5 -0.5]\n"
     ]
    }
   ],
   "source": [
    "x = np.array([1, 2])\n",
    "y = 1\n",
    "W = np.array([[.5, -1],\n",
    "              [-.5, 1],\n",
    "              [1, .5]])\n",
    "V = np.array([[-1, -1, 1],\n",
    "              [1, 1, 1]])\n",
    "b = np.array([0, 0, 0])\n",
    "c = np.array([0, 0])\n",
    "\n",
    "dLdW, dLdV, dLdb, dLdc = prediction_grad(x,y,W,V,b,c)\n",
    "print(\"dLdW:\", dLdW)\n",
    "print(\"dLdV:\", dLdV)\n",
    "print(\"dLdb:\", dLdb)\n",
    "print(\"dLdc:\", dLdc)\n"
   ]
  },
  {
   "cell_type": "markdown",
   "metadata": {},
   "source": [
    "Question 4"
   ]
  },
  {
   "cell_type": "code",
   "execution_count": 5,
   "metadata": {},
   "outputs": [],
   "source": [
    "import jax\n",
    "from jax import numpy as np\n",
    "from jax import grad"
   ]
  },
  {
   "cell_type": "code",
   "execution_count": 6,
   "metadata": {},
   "outputs": [],
   "source": [
    "def prediction_grad_jax(x,y,W,V,b,c):\n",
    "    # do stuff here\n",
    "\n",
    "    dLdW, dLdV, dLdb, dLdc = grad(prediction_loss, argnums= (2,3,4,5))(x,y,W,V,b,c)\n",
    "    \n",
    "    return dLdW, dLdV, dLdb, dLdc"
   ]
  },
  {
   "cell_type": "markdown",
   "metadata": {},
   "source": [
    "Question 5"
   ]
  },
  {
   "cell_type": "code",
   "execution_count": 7,
   "metadata": {},
   "outputs": [],
   "source": [
    "# Helper function\n",
    "def logistic_loss_vectorized(Y, F):\n",
    "\n",
    "    # Gather the correct class scores for each sample\n",
    "    correct_class_scores = F[np.arange(len(Y)), Y]\n",
    "\n",
    "    # Compute the vector of losses for each sample\n",
    "    losses = -correct_class_scores + np.log(np.sum(np.exp(F), axis=1))\n",
    "\n",
    "    # Return the total loss (sum over all samples)\n",
    "    return np.sum(losses)\n",
    "\n",
    "# Helper function\n",
    "def vectorized_loss(X,Y,W,V,b,c):\n",
    "    a = activation(np.dot(X, W.T) + b)\n",
    "    pred = np.dot(a, V.T) + c\n",
    "    return logistic_loss_vectorized(Y, pred)\n",
    "\n",
    "\n",
    "############\n",
    "# MAIN FUNCTION\n",
    "############\n",
    "\n",
    "def prediction_loss_full(X,Y,W,V,b,c,λ):\n",
    "    # do stuff here\n",
    "\n",
    "    # X is now 2D array of inputs\n",
    "    # Y is now 1D array of outputs\n",
    "\n",
    "    L = vectorized_loss(X,Y,W,V,b,c)\n",
    "\n",
    "    # add the regularization\n",
    "    L += λ * (np.sum(W**2) + np.sum(V**2))\n",
    "    return L.squeeze()  # include regularization"
   ]
  },
  {
   "cell_type": "markdown",
   "metadata": {},
   "source": [
    "Question 6"
   ]
  },
  {
   "cell_type": "code",
   "execution_count": 8,
   "metadata": {},
   "outputs": [],
   "source": [
    "def prediction_grad_full(X,Y,W,V,b,c,λ):\n",
    "    # do stuff here\n",
    "    # X is now 2D array of inputs\n",
    "    # Y is now 1D array of outputs\n",
    "\n",
    "    dLdW, dLdV, dLdb, dLdc = grad(prediction_loss_full, argnums= (2,3,4,5))(X,Y,W,V,b,c,λ)\n",
    "\n",
    "    return dLdW, dLdV, dLdb, dLdc"
   ]
  },
  {
   "cell_type": "markdown",
   "metadata": {},
   "source": [
    "Question 7"
   ]
  },
  {
   "cell_type": "code",
   "execution_count": 9,
   "metadata": {},
   "outputs": [],
   "source": [
    "from matplotlib import pyplot as plt\n",
    "from numpy import random\n",
    "import time"
   ]
  },
  {
   "cell_type": "code",
   "execution_count": 10,
   "metadata": {},
   "outputs": [
    {
     "name": "stdout",
     "output_type": "stream",
     "text": [
      "M | Training time (ms)\n",
      "5 | 219740.74411392212\n",
      "40 | 243588.9778137207\n",
      "70 | 270961.5559577942\n"
     ]
    },
    {
     "data": {
      "image/png": "[encoded data removed]",
      "text/plain": [
       "<Figure size 640x480 with 1 Axes>"
      ]
     },
     "metadata": {},
     "output_type": "display_data"
    }
   ],
   "source": [
    "# load data\n",
    "stuff=np.load(\"data.npz\")\n",
    "X_trn = stuff[\"X_trn\"]\n",
    "y_trn = stuff[\"y_trn\"]\n",
    "X_tst = stuff[\"X_tst\"]\n",
    "# no Y_tst !\n",
    "\n",
    "# helper function - training loop\n",
    "def loss_training_loop(X_trn, y_trn, m, D, iters=1000, λ=1, stepsize=0.000025, momentum=0.1):\n",
    "\n",
    "    # initialize variables\n",
    "\n",
    "    W = random.normal(0, 1, (m, D)) / np.sqrt(D)\n",
    "    V = random.normal(0, 1, (len(y_trn), m)) / np.sqrt(D)\n",
    "    b = np.zeros(m)\n",
    "    c = np.zeros(len(y_trn))\n",
    "    avg_grad_w = 0\n",
    "    avg_grad_v = 0\n",
    "    avg_grad_b = 0\n",
    "    avg_grad_c = 0\n",
    "    loss_iter = []\n",
    "    start_time = time.time()\n",
    "\n",
    "    # training loop\n",
    "    for i in range(iters):\n",
    "        # calculate loss\n",
    "        loss_iter.append(prediction_loss_full(X_trn, y_trn, W, V, b, c, λ)) \n",
    "\n",
    "        # calculate gradients\n",
    "        cur_grad_w, cur_grad_v, cur_grad_b, cur_grad_c = prediction_grad_full(X_trn, y_trn, W, V, b, c, λ)\n",
    "\n",
    "        # update variables with momentum\n",
    "        avg_grad_w = (1 - momentum) * avg_grad_w + momentum * cur_grad_w\n",
    "        avg_grad_v = (1 - momentum) * avg_grad_v + momentum * cur_grad_v\n",
    "        avg_grad_b = (1 - momentum) * avg_grad_b + momentum * cur_grad_b\n",
    "        avg_grad_c = (1 - momentum) * avg_grad_c + momentum * cur_grad_c\n",
    "       \n",
    "        W = W - stepsize * avg_grad_w\n",
    "        V = V - stepsize * avg_grad_v\n",
    "        b = b - stepsize * avg_grad_b\n",
    "        c = c - stepsize * avg_grad_c\n",
    "\n",
    "    end_time = time.time()\n",
    "    print(f\"{m} | {(end_time - start_time) * 1000}\")\n",
    "\n",
    "    return loss_iter\n",
    "\n",
    "\n",
    "#####################\n",
    "# MAIN CODE\n",
    "#####################\n",
    "\n",
    "# reshape X_trn\n",
    "X_trn = X_trn.reshape(X_trn.shape[0], 2523)\n",
    "\n",
    "M = [5, 40, 70]\n",
    "D = X_trn.shape[1]\n",
    "\n",
    "# given params\n",
    "iters = 1000\n",
    "stepsize = .000025\n",
    "momentum = .1\n",
    "λ = 1\n",
    "\n",
    "print(\"M | Training time (ms)\")\n",
    "for m in M:\n",
    "    loss  = loss_training_loop(X_trn, y_trn, m, D, iters, λ, stepsize, momentum)\n",
    "    plt.plot(range(iters), loss, label=f\"M={m}\")\n",
    "    plt.xlabel(\"Iteration\")\n",
    "    plt.ylabel(\"Loss\")\n",
    "\n",
    "plt.legend()\n",
    "plt.show()\n",
    "\n",
    "\n"
   ]
  },
  {
   "cell_type": "markdown",
   "metadata": {},
   "source": [
    "Question 8"
   ]
  },
  {
   "cell_type": "code",
   "execution_count": 11,
   "metadata": {},
   "outputs": [
    {
     "name": "stdout",
     "output_type": "stream",
     "text": [
      "M | classification error\n",
      "5 | 0.7566666603088379\n",
      "40 | 0.41633331775665283\n",
      "70 | 0.359333336353302\n"
     ]
    }
   ],
   "source": [
    "# load data\n",
    "stuff=np.load(\"data.npz\")\n",
    "X_trn = stuff[\"X_trn\"]\n",
    "y_trn = stuff[\"y_trn\"]\n",
    "X_tst = stuff[\"X_tst\"]\n",
    "# no Y_tst !\n",
    "\n",
    "# reshape X_trn\n",
    "X_trn = X_trn.reshape(X_trn.shape[0], 2523)\n",
    "\n",
    "# split training data into training and validation\n",
    "X_trn_trn = X_trn[:len(X_trn)//2]\n",
    "X_trn_val = X_trn[len(X_trn)//2:]\n",
    "y_trn_trn = y_trn[:len(y_trn)//2]\n",
    "y_trn_val = y_trn[len(y_trn)//2:]\n",
    "\n",
    "# helper function - training loop and return variables\n",
    "def loss_training_loop_variables(X_trn, y_trn, m, D, iters=1000, λ=1, stepsize=0.000025, momentum=0.1):\n",
    "\n",
    "    # initialize variables\n",
    "    W = random.normal(0, 1, (m, D)) / np.sqrt(D)\n",
    "    V = random.normal(0, 1, (len(y_trn), m)) / np.sqrt(D)\n",
    "    b = np.zeros(m)\n",
    "    c = np.zeros(len(y_trn))\n",
    "    avg_grad_w = 0\n",
    "    avg_grad_v = 0\n",
    "    avg_grad_b = 0\n",
    "    avg_grad_c = 0\n",
    "    loss_iter = []\n",
    "\n",
    "    for i in range(iters):\n",
    "\n",
    "        # calculate loss\n",
    "        loss_iter.append(prediction_loss_full(X_trn, y_trn, W, V, b, c, λ))\n",
    "\n",
    "        # calculate gradients\n",
    "        cur_grad_w, cur_grad_v, cur_grad_b, cur_grad_c = prediction_grad_full(X_trn_trn, y_trn_trn, W, V, b, c, λ)\n",
    "\n",
    "        # update variables with momentum\n",
    "        avg_grad_w = (1 - momentum) * avg_grad_w + momentum * cur_grad_w\n",
    "        avg_grad_v = (1 - momentum) * avg_grad_v + momentum * cur_grad_v\n",
    "        avg_grad_b = (1 - momentum) * avg_grad_b + momentum * cur_grad_b\n",
    "        avg_grad_c = (1 - momentum) * avg_grad_c + momentum * cur_grad_c\n",
    "       \n",
    "        W = W - stepsize * avg_grad_w\n",
    "        V = V - stepsize * avg_grad_v\n",
    "        b = b - stepsize * avg_grad_b\n",
    "        c = c - stepsize * avg_grad_c\n",
    "\n",
    "    # return final variables\n",
    "    return W, V, b, c\n",
    "\n",
    "\n",
    "def validation_prediction(X_val, y_val, W, V, b, c):\n",
    "\n",
    "    # evaluate using trained variables\n",
    "    a = activation(np.dot(X_val, W.T) + b)\n",
    "    pred = np.dot(a, V.T) + c\n",
    "\n",
    "    predicted_classes = np.argmax(pred, axis=1) # predicted class for each example\n",
    "\n",
    "    # calculate classification error\n",
    "    correct_predictions = sum(predicted_classes == y_val)\n",
    "    classification_error = 1 - correct_predictions / len(y_val)\n",
    "\n",
    "    return classification_error\n",
    "\n",
    "M = [5, 40, 70]\n",
    "D = X_trn.shape[1]\n",
    "\n",
    "# given params\n",
    "iters = 1000\n",
    "stepsize = .000025\n",
    "momentum = .1\n",
    "λ = 1\n",
    "\n",
    "print(\"M | classification error\")\n",
    "for m in M:\n",
    "    final_W, final_V, final_b, final_c = loss_training_loop_variables(X_trn_trn, y_trn_trn, m, D, iters, λ, stepsize, momentum)\n",
    "    e = validation_prediction(X_trn_val, y_trn_val, final_W, final_V, final_b, final_c)\n",
    "    print(f\"{m} | {e}\")\n"
   ]
  },
  {
   "cell_type": "code",
   "execution_count": 12,
   "metadata": {},
   "outputs": [],
   "source": [
    "# Re-train with best M on full training data\n",
    "def train_predict_test_data(X_trn, y_trn, X_tst, m, D, iters=1000, λ=1, stepsize=0.000025, momentum=0.1):\n",
    "    \n",
    "    X_trn = X_trn.reshape(X_trn.shape[0], 2523)\n",
    "    D = X_trn.shape[1]\n",
    "\n",
    "    # given params\n",
    "    iters = 1000\n",
    "    stepsize = .000025\n",
    "    momentum = .1\n",
    "    λ = 1\n",
    "\n",
    "    # best M from previous step\n",
    "    m = 70\n",
    "\n",
    "    # train with full training data\n",
    "    W, V, b, c = loss_training_loop_variables(X_trn, y_trn, m, D, iters, λ, stepsize, momentum)\n",
    "\n",
    "    # predict on test data\n",
    "    a = activation(np.dot(X_tst, W.T) + b)\n",
    "    pred = np.dot(a, V.T) + c\n",
    "    predicted_classes = np.argmax(pred, axis=1) # predicted class for each example\n",
    "\n",
    "    return predicted_classes\n",
    "\n",
    "\n"
   ]
  },
  {
   "cell_type": "code",
   "execution_count": 13,
   "metadata": {},
   "outputs": [],
   "source": [
    "# import numpy as np\n",
    "import csv\n",
    "\n",
    "def write_csv(y_pred, filename):\n",
    "    \"\"\"Write a 1d numpy array to a Kaggle-compatible .csv file\"\"\"\n",
    "    with open(filename, 'w') as csv_file:\n",
    "        csv_writer = csv.writer(csv_file)\n",
    "        csv_writer.writerow(['Id', 'Category'])\n",
    "        for idx, y in enumerate(y_pred):\n",
    "            csv_writer.writerow([idx, y])\n",
    "\n",
    "\n",
    "data = np.load('data.npz')\n",
    "X_trn = data['X_trn'].reshape(X_trn.shape[0], 2523)\n",
    "y_trn = data['y_trn']\n",
    "X_tst = data['X_tst'].reshape(X_tst.shape[0], 2523)\n",
    "y_pred = train_predict_test_data(X_trn, y_trn, X_tst, m, D, iters, λ, stepsize, momentum)\n",
    "write_csv(y_pred, 'submission.csv')"
   ]
  },
  {
   "cell_type": "markdown",
   "metadata": {},
   "source": [
    "REPORT:\n",
    "\n",
    "m value = 70 \\\n",
    "generalization error = 0.359333336353302"
   ]
  }
 ],
 "metadata": {
  "kernelspec": {
   "display_name": "base",
   "language": "python",
   "name": "python3"
  },
  "language_info": {
   "codemirror_mode": {
    "name": "ipython",
    "version": 3
   },
   "file_extension": ".py",
   "mimetype": "text/x-python",
   "name": "python",
   "nbconvert_exporter": "python",
   "pygments_lexer": "ipython3",
   "version": "3.11.7"
  }
 },
 "nbformat": 4,
 "nbformat_minor": 2
}
